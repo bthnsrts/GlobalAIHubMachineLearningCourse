{
 "cells": [
  {
   "cell_type": "markdown",
   "metadata": {},
   "source": [
    "# Final Project\n",
    "\n",
    "In this project, our aim is to building a model for predicting dimond prices. Our label (output) will be `price` column. **Do not forget, this is a Classification problem!**\n",
    "\n",
    "## Content\n",
    "carat: weight of the diamond (0.2--5.01)\n",
    "\n",
    "cut: quality of the cut (Fair, Good, Very Good, Premium, Ideal)\n",
    "\n",
    "color: diamond colour, from J (worst) to D (best)\n",
    "\n",
    "clarity: a measurement of how clear the diamond is (I1 (worst), SI2, SI1, VS2, VS1, VVS2, VVS1, IF (best))\n",
    "\n",
    "x: length in mm (0--10.74)\n",
    "\n",
    "y: width in mm (0--58.9)\n",
    "\n",
    "z: depth in mm (0--31.8)\n",
    "\n",
    "depth: total depth percentage = z / mean(x, y) = 2 * z / (x + y) (43--79)\n",
    "\n",
    "table: width of top of diamond relative to widest point (43--95)\n",
    "\n",
    "## Steps\n",
    "- Read the `diamonds.csv` file and describe it.\n",
    "- Make at least 4 different analysis on Exploratory Data Analysis section.\n",
    "- Pre-process the dataset to get ready for ML application. (Check missing data and handle them, can we need to do scaling or feature extraction etc.)\n",
    "- Define appropriate evaluation metric for our case (classification). *Hint: Is there any imbalanced problem in the label column?*\n",
    "- Split the dataset into train and test set. (Consider the imbalanced problem if is there any). Check the distribution of labels in the subsets (train and test).\n",
    "- Train and evaluate Decision Trees and at least 2 different appropriate algorithm which you can choose from scikit-learn library.\n",
    "- Is there any overfitting and underfitting? Interpret your results and try to overcome if there is any problem in a new section.\n",
    "- Create confusion metrics for each algorithm and display Accuracy, Recall, Precision and F1-Score values.\n",
    "- Analyse and compare results of 3 algorithms.\n",
    "- Select best performing model based on evaluation metric you chose on test dataset.\n",
    "\n",
    "\n",
    "Good luck :)"
   ]
  },
  {
   "cell_type": "markdown",
   "metadata": {},
   "source": [
    "# Batuhan Sarıtaş"
   ]
  },
  {
   "cell_type": "markdown",
   "metadata": {},
   "source": [
    "# Data"
   ]
  },
  {
   "cell_type": "code",
   "execution_count": 1,
   "metadata": {
    "_cell_guid": "b1076dfc-b9ad-4769-8c92-a6c4dae69d19",
    "_uuid": "8f2839f25d086af736a60e9eeb907d3b93b6e0e5"
   },
   "outputs": [],
   "source": [
    "import pandas as pd\n",
    "import seaborn as sns\n",
    "import numpy as np\n",
    "import matplotlib.pyplot as plt\n"
   ]
  },
  {
   "cell_type": "code",
   "execution_count": 2,
   "metadata": {},
   "outputs": [
    {
     "data": {
      "text/html": [
       "<div>\n",
       "<style scoped>\n",
       "    .dataframe tbody tr th:only-of-type {\n",
       "        vertical-align: middle;\n",
       "    }\n",
       "\n",
       "    .dataframe tbody tr th {\n",
       "        vertical-align: top;\n",
       "    }\n",
       "\n",
       "    .dataframe thead th {\n",
       "        text-align: right;\n",
       "    }\n",
       "</style>\n",
       "<table border=\"1\" class=\"dataframe\">\n",
       "  <thead>\n",
       "    <tr style=\"text-align: right;\">\n",
       "      <th></th>\n",
       "      <th>index</th>\n",
       "      <th>carat</th>\n",
       "      <th>cut</th>\n",
       "      <th>color</th>\n",
       "      <th>clarity</th>\n",
       "      <th>depth</th>\n",
       "      <th>table</th>\n",
       "      <th>x</th>\n",
       "      <th>y</th>\n",
       "      <th>z</th>\n",
       "      <th>price</th>\n",
       "    </tr>\n",
       "  </thead>\n",
       "  <tbody>\n",
       "    <tr>\n",
       "      <th>0</th>\n",
       "      <td>1</td>\n",
       "      <td>0.23</td>\n",
       "      <td>Ideal</td>\n",
       "      <td>E</td>\n",
       "      <td>SI2</td>\n",
       "      <td>61.5</td>\n",
       "      <td>55.0</td>\n",
       "      <td>3.95</td>\n",
       "      <td>3.98</td>\n",
       "      <td>2.43</td>\n",
       "      <td>Very Low</td>\n",
       "    </tr>\n",
       "    <tr>\n",
       "      <th>1</th>\n",
       "      <td>2</td>\n",
       "      <td>0.21</td>\n",
       "      <td>Premium</td>\n",
       "      <td>E</td>\n",
       "      <td>SI1</td>\n",
       "      <td>59.8</td>\n",
       "      <td>61.0</td>\n",
       "      <td>3.89</td>\n",
       "      <td>3.84</td>\n",
       "      <td>2.31</td>\n",
       "      <td>Very Low</td>\n",
       "    </tr>\n",
       "    <tr>\n",
       "      <th>2</th>\n",
       "      <td>3</td>\n",
       "      <td>0.23</td>\n",
       "      <td>Good</td>\n",
       "      <td>E</td>\n",
       "      <td>VS1</td>\n",
       "      <td>56.9</td>\n",
       "      <td>65.0</td>\n",
       "      <td>4.05</td>\n",
       "      <td>4.07</td>\n",
       "      <td>2.31</td>\n",
       "      <td>Very Low</td>\n",
       "    </tr>\n",
       "    <tr>\n",
       "      <th>3</th>\n",
       "      <td>4</td>\n",
       "      <td>0.29</td>\n",
       "      <td>Premium</td>\n",
       "      <td>I</td>\n",
       "      <td>VS2</td>\n",
       "      <td>62.4</td>\n",
       "      <td>58.0</td>\n",
       "      <td>4.20</td>\n",
       "      <td>4.23</td>\n",
       "      <td>2.63</td>\n",
       "      <td>Very Low</td>\n",
       "    </tr>\n",
       "    <tr>\n",
       "      <th>4</th>\n",
       "      <td>5</td>\n",
       "      <td>0.31</td>\n",
       "      <td>Good</td>\n",
       "      <td>J</td>\n",
       "      <td>SI2</td>\n",
       "      <td>63.3</td>\n",
       "      <td>58.0</td>\n",
       "      <td>4.34</td>\n",
       "      <td>4.35</td>\n",
       "      <td>2.75</td>\n",
       "      <td>Very Low</td>\n",
       "    </tr>\n",
       "    <tr>\n",
       "      <th>...</th>\n",
       "      <td>...</td>\n",
       "      <td>...</td>\n",
       "      <td>...</td>\n",
       "      <td>...</td>\n",
       "      <td>...</td>\n",
       "      <td>...</td>\n",
       "      <td>...</td>\n",
       "      <td>...</td>\n",
       "      <td>...</td>\n",
       "      <td>...</td>\n",
       "      <td>...</td>\n",
       "    </tr>\n",
       "    <tr>\n",
       "      <th>53935</th>\n",
       "      <td>53936</td>\n",
       "      <td>0.72</td>\n",
       "      <td>Ideal</td>\n",
       "      <td>D</td>\n",
       "      <td>SI1</td>\n",
       "      <td>60.8</td>\n",
       "      <td>57.0</td>\n",
       "      <td>5.75</td>\n",
       "      <td>5.76</td>\n",
       "      <td>3.50</td>\n",
       "      <td>Very Low</td>\n",
       "    </tr>\n",
       "    <tr>\n",
       "      <th>53936</th>\n",
       "      <td>53937</td>\n",
       "      <td>0.72</td>\n",
       "      <td>Good</td>\n",
       "      <td>D</td>\n",
       "      <td>SI1</td>\n",
       "      <td>63.1</td>\n",
       "      <td>55.0</td>\n",
       "      <td>5.69</td>\n",
       "      <td>5.75</td>\n",
       "      <td>3.61</td>\n",
       "      <td>Very Low</td>\n",
       "    </tr>\n",
       "    <tr>\n",
       "      <th>53937</th>\n",
       "      <td>53938</td>\n",
       "      <td>0.70</td>\n",
       "      <td>Very Good</td>\n",
       "      <td>D</td>\n",
       "      <td>SI1</td>\n",
       "      <td>62.8</td>\n",
       "      <td>60.0</td>\n",
       "      <td>5.66</td>\n",
       "      <td>5.68</td>\n",
       "      <td>3.56</td>\n",
       "      <td>Very Low</td>\n",
       "    </tr>\n",
       "    <tr>\n",
       "      <th>53938</th>\n",
       "      <td>53939</td>\n",
       "      <td>0.86</td>\n",
       "      <td>Premium</td>\n",
       "      <td>H</td>\n",
       "      <td>SI2</td>\n",
       "      <td>61.0</td>\n",
       "      <td>58.0</td>\n",
       "      <td>6.15</td>\n",
       "      <td>6.12</td>\n",
       "      <td>3.74</td>\n",
       "      <td>Very Low</td>\n",
       "    </tr>\n",
       "    <tr>\n",
       "      <th>53939</th>\n",
       "      <td>53940</td>\n",
       "      <td>0.75</td>\n",
       "      <td>Ideal</td>\n",
       "      <td>D</td>\n",
       "      <td>SI2</td>\n",
       "      <td>62.2</td>\n",
       "      <td>55.0</td>\n",
       "      <td>5.83</td>\n",
       "      <td>5.87</td>\n",
       "      <td>3.64</td>\n",
       "      <td>Very Low</td>\n",
       "    </tr>\n",
       "  </tbody>\n",
       "</table>\n",
       "<p>53940 rows × 11 columns</p>\n",
       "</div>"
      ],
      "text/plain": [
       "       index  carat        cut color clarity  depth  table     x     y     z  \\\n",
       "0          1   0.23      Ideal     E     SI2   61.5   55.0  3.95  3.98  2.43   \n",
       "1          2   0.21    Premium     E     SI1   59.8   61.0  3.89  3.84  2.31   \n",
       "2          3   0.23       Good     E     VS1   56.9   65.0  4.05  4.07  2.31   \n",
       "3          4   0.29    Premium     I     VS2   62.4   58.0  4.20  4.23  2.63   \n",
       "4          5   0.31       Good     J     SI2   63.3   58.0  4.34  4.35  2.75   \n",
       "...      ...    ...        ...   ...     ...    ...    ...   ...   ...   ...   \n",
       "53935  53936   0.72      Ideal     D     SI1   60.8   57.0  5.75  5.76  3.50   \n",
       "53936  53937   0.72       Good     D     SI1   63.1   55.0  5.69  5.75  3.61   \n",
       "53937  53938   0.70  Very Good     D     SI1   62.8   60.0  5.66  5.68  3.56   \n",
       "53938  53939   0.86    Premium     H     SI2   61.0   58.0  6.15  6.12  3.74   \n",
       "53939  53940   0.75      Ideal     D     SI2   62.2   55.0  5.83  5.87  3.64   \n",
       "\n",
       "          price  \n",
       "0      Very Low  \n",
       "1      Very Low  \n",
       "2      Very Low  \n",
       "3      Very Low  \n",
       "4      Very Low  \n",
       "...         ...  \n",
       "53935  Very Low  \n",
       "53936  Very Low  \n",
       "53937  Very Low  \n",
       "53938  Very Low  \n",
       "53939  Very Low  \n",
       "\n",
       "[53940 rows x 11 columns]"
      ]
     },
     "execution_count": 2,
     "metadata": {},
     "output_type": "execute_result"
    }
   ],
   "source": [
    "# Read csv\n",
    "df = pd.read_csv(\"diamonds.csv\")\n",
    "df"
   ]
  },
  {
   "cell_type": "code",
   "execution_count": 3,
   "metadata": {},
   "outputs": [
    {
     "name": "stdout",
     "output_type": "stream",
     "text": [
      "<class 'pandas.core.frame.DataFrame'>\n",
      "RangeIndex: 53940 entries, 0 to 53939\n",
      "Data columns (total 11 columns):\n",
      " #   Column   Non-Null Count  Dtype  \n",
      "---  ------   --------------  -----  \n",
      " 0   index    53940 non-null  int64  \n",
      " 1   carat    53940 non-null  float64\n",
      " 2   cut      53940 non-null  object \n",
      " 3   color    53940 non-null  object \n",
      " 4   clarity  53940 non-null  object \n",
      " 5   depth    53940 non-null  float64\n",
      " 6   table    53940 non-null  float64\n",
      " 7   x        53940 non-null  float64\n",
      " 8   y        53940 non-null  float64\n",
      " 9   z        53940 non-null  float64\n",
      " 10  price    53940 non-null  object \n",
      "dtypes: float64(6), int64(1), object(4)\n",
      "memory usage: 4.5+ MB\n"
     ]
    }
   ],
   "source": [
    "# Describe our data for each feature and use .info() for get information about our dataset\n",
    "# Analyse missing values\n",
    "\n",
    "df.info()"
   ]
  },
  {
   "cell_type": "code",
   "execution_count": 257,
   "metadata": {},
   "outputs": [
    {
     "data": {
      "text/html": [
       "<div>\n",
       "<style scoped>\n",
       "    .dataframe tbody tr th:only-of-type {\n",
       "        vertical-align: middle;\n",
       "    }\n",
       "\n",
       "    .dataframe tbody tr th {\n",
       "        vertical-align: top;\n",
       "    }\n",
       "\n",
       "    .dataframe thead th {\n",
       "        text-align: right;\n",
       "    }\n",
       "</style>\n",
       "<table border=\"1\" class=\"dataframe\">\n",
       "  <thead>\n",
       "    <tr style=\"text-align: right;\">\n",
       "      <th></th>\n",
       "      <th>index</th>\n",
       "      <th>carat</th>\n",
       "      <th>depth</th>\n",
       "      <th>table</th>\n",
       "      <th>x</th>\n",
       "      <th>y</th>\n",
       "      <th>z</th>\n",
       "    </tr>\n",
       "  </thead>\n",
       "  <tbody>\n",
       "    <tr>\n",
       "      <th>count</th>\n",
       "      <td>53940.000000</td>\n",
       "      <td>53940.000000</td>\n",
       "      <td>53940.000000</td>\n",
       "      <td>53940.000000</td>\n",
       "      <td>53940.000000</td>\n",
       "      <td>53940.000000</td>\n",
       "      <td>53940.000000</td>\n",
       "    </tr>\n",
       "    <tr>\n",
       "      <th>mean</th>\n",
       "      <td>26970.500000</td>\n",
       "      <td>0.797940</td>\n",
       "      <td>61.749405</td>\n",
       "      <td>57.457184</td>\n",
       "      <td>5.731157</td>\n",
       "      <td>5.734526</td>\n",
       "      <td>3.538734</td>\n",
       "    </tr>\n",
       "    <tr>\n",
       "      <th>std</th>\n",
       "      <td>15571.281097</td>\n",
       "      <td>0.474011</td>\n",
       "      <td>1.432621</td>\n",
       "      <td>2.234491</td>\n",
       "      <td>1.121761</td>\n",
       "      <td>1.142135</td>\n",
       "      <td>0.705699</td>\n",
       "    </tr>\n",
       "    <tr>\n",
       "      <th>min</th>\n",
       "      <td>1.000000</td>\n",
       "      <td>0.200000</td>\n",
       "      <td>43.000000</td>\n",
       "      <td>43.000000</td>\n",
       "      <td>0.000000</td>\n",
       "      <td>0.000000</td>\n",
       "      <td>0.000000</td>\n",
       "    </tr>\n",
       "    <tr>\n",
       "      <th>25%</th>\n",
       "      <td>13485.750000</td>\n",
       "      <td>0.400000</td>\n",
       "      <td>61.000000</td>\n",
       "      <td>56.000000</td>\n",
       "      <td>4.710000</td>\n",
       "      <td>4.720000</td>\n",
       "      <td>2.910000</td>\n",
       "    </tr>\n",
       "    <tr>\n",
       "      <th>50%</th>\n",
       "      <td>26970.500000</td>\n",
       "      <td>0.700000</td>\n",
       "      <td>61.800000</td>\n",
       "      <td>57.000000</td>\n",
       "      <td>5.700000</td>\n",
       "      <td>5.710000</td>\n",
       "      <td>3.530000</td>\n",
       "    </tr>\n",
       "    <tr>\n",
       "      <th>75%</th>\n",
       "      <td>40455.250000</td>\n",
       "      <td>1.040000</td>\n",
       "      <td>62.500000</td>\n",
       "      <td>59.000000</td>\n",
       "      <td>6.540000</td>\n",
       "      <td>6.540000</td>\n",
       "      <td>4.040000</td>\n",
       "    </tr>\n",
       "    <tr>\n",
       "      <th>max</th>\n",
       "      <td>53940.000000</td>\n",
       "      <td>5.010000</td>\n",
       "      <td>79.000000</td>\n",
       "      <td>95.000000</td>\n",
       "      <td>10.740000</td>\n",
       "      <td>58.900000</td>\n",
       "      <td>31.800000</td>\n",
       "    </tr>\n",
       "  </tbody>\n",
       "</table>\n",
       "</div>"
      ],
      "text/plain": [
       "              index         carat         depth         table             x  \\\n",
       "count  53940.000000  53940.000000  53940.000000  53940.000000  53940.000000   \n",
       "mean   26970.500000      0.797940     61.749405     57.457184      5.731157   \n",
       "std    15571.281097      0.474011      1.432621      2.234491      1.121761   \n",
       "min        1.000000      0.200000     43.000000     43.000000      0.000000   \n",
       "25%    13485.750000      0.400000     61.000000     56.000000      4.710000   \n",
       "50%    26970.500000      0.700000     61.800000     57.000000      5.700000   \n",
       "75%    40455.250000      1.040000     62.500000     59.000000      6.540000   \n",
       "max    53940.000000      5.010000     79.000000     95.000000     10.740000   \n",
       "\n",
       "                  y             z  \n",
       "count  53940.000000  53940.000000  \n",
       "mean       5.734526      3.538734  \n",
       "std        1.142135      0.705699  \n",
       "min        0.000000      0.000000  \n",
       "25%        4.720000      2.910000  \n",
       "50%        5.710000      3.530000  \n",
       "75%        6.540000      4.040000  \n",
       "max       58.900000     31.800000  "
      ]
     },
     "execution_count": 257,
     "metadata": {},
     "output_type": "execute_result"
    }
   ],
   "source": [
    "df.describe()"
   ]
  },
  {
   "cell_type": "code",
   "execution_count": 307,
   "metadata": {},
   "outputs": [
    {
     "data": {
      "text/plain": [
       "index      0\n",
       "carat      0\n",
       "cut        0\n",
       "color      0\n",
       "clarity    0\n",
       "depth      0\n",
       "table      0\n",
       "x          0\n",
       "y          0\n",
       "z          0\n",
       "price      0\n",
       "dtype: int64"
      ]
     },
     "execution_count": 307,
     "metadata": {},
     "output_type": "execute_result"
    }
   ],
   "source": [
    "df.isnull().sum()"
   ]
  },
  {
   "cell_type": "markdown",
   "metadata": {},
   "source": [
    "# Exploratory Data Analysis"
   ]
  },
  {
   "cell_type": "code",
   "execution_count": 308,
   "metadata": {},
   "outputs": [
    {
     "data": {
      "text/plain": [
       "<AxesSubplot:xlabel='price', ylabel='count'>"
      ]
     },
     "execution_count": 308,
     "metadata": {},
     "output_type": "execute_result"
    },
    {
     "data": {
      "image/png": "[encoded data removed]",
      "text/plain": [
       "<Figure size 432x288 with 1 Axes>"
      ]
     },
     "metadata": {
      "needs_background": "light"
     },
     "output_type": "display_data"
    }
   ],
   "source": [
    "# Our label Distribution (countplot)\n",
    "from seaborn import countplot\n",
    "countplot(x =df.price)"
   ]
  },
  {
   "cell_type": "code",
   "execution_count": 241,
   "metadata": {},
   "outputs": [
    {
     "data": {
      "text/plain": [
       "<AxesSubplot:xlabel='cut', ylabel='count'>"
      ]
     },
     "execution_count": 241,
     "metadata": {},
     "output_type": "execute_result"
    },
    {
     "data": {
      "image/png": "[encoded data removed]",
      "text/plain": [
       "<Figure size 432x288 with 1 Axes>"
      ]
     },
     "metadata": {
      "needs_background": "light"
     },
     "output_type": "display_data"
    }
   ],
   "source": [
    "countplot(x = df.cut)"
   ]
  },
  {
   "cell_type": "code",
   "execution_count": 260,
   "metadata": {},
   "outputs": [
    {
     "data": {
      "text/plain": [
       "<AxesSubplot:xlabel='color', ylabel='count'>"
      ]
     },
     "execution_count": 260,
     "metadata": {},
     "output_type": "execute_result"
    },
    {
     "data": {
      "image/png": "[encoded data removed]",
      "text/plain": [
       "<Figure size 432x288 with 1 Axes>"
      ]
     },
     "metadata": {
      "needs_background": "light"
     },
     "output_type": "display_data"
    }
   ],
   "source": [
    "countplot(x= df.color)"
   ]
  },
  {
   "cell_type": "code",
   "execution_count": 243,
   "metadata": {},
   "outputs": [
    {
     "data": {
      "text/plain": [
       "<AxesSubplot:xlabel='clarity', ylabel='count'>"
      ]
     },
     "execution_count": 243,
     "metadata": {},
     "output_type": "execute_result"
    },
    {
     "data": {
      "image/png": "[encoded data removed]",
      "text/plain": [
       "<Figure size 432x288 with 1 Axes>"
      ]
     },
     "metadata": {
      "needs_background": "light"
     },
     "output_type": "display_data"
    }
   ],
   "source": [
    "countplot(x = df.clarity)"
   ]
  },
  {
   "cell_type": "code",
   "execution_count": 4,
   "metadata": {},
   "outputs": [
    {
     "name": "stdout",
     "output_type": "stream",
     "text": [
      "<seaborn.axisgrid.FacetGrid object at 0x000001B7C7EC3CD0>\n",
      "<seaborn.axisgrid.FacetGrid object at 0x000001B7C927AF70>\n",
      "<seaborn.axisgrid.FacetGrid object at 0x000001B7C92A5A90>\n",
      "<seaborn.axisgrid.FacetGrid object at 0x000001B7C90174F0>\n",
      "<seaborn.axisgrid.FacetGrid object at 0x000001B7C9DE1760>\n",
      "<seaborn.axisgrid.FacetGrid object at 0x000001B7CA2FAE50>\n"
     ]
    },
    {
     "data": {
      "image/png": "[encoded data removed]",
      "text/plain": [
       "<Figure size 360x360 with 1 Axes>"
      ]
     },
     "metadata": {
      "needs_background": "light"
     },
     "output_type": "display_data"
    },
    {
     "data": {
      "image/png": "[encoded data removed]",
      "text/plain": [
       "<Figure size 360x360 with 1 Axes>"
      ]
     },
     "metadata": {
      "needs_background": "light"
     },
     "output_type": "display_data"
    },
    {
     "data": {
      "image/png": "[encoded data removed]",
      "text/plain": [
       "<Figure size 360x360 with 1 Axes>"
      ]
     },
     "metadata": {
      "needs_background": "light"
     },
     "output_type": "display_data"
    },
    {
     "data": {
      "image/png": "[encoded data removed]",
      "text/plain": [
       "<Figure size 360x360 with 1 Axes>"
      ]
     },
     "metadata": {
      "needs_background": "light"
     },
     "output_type": "display_data"
    },
    {
     "data": {
      "image/png": "[encoded data removed]",
      "text/plain": [
       "<Figure size 360x360 with 1 Axes>"
      ]
     },
     "metadata": {
      "needs_background": "light"
     },
     "output_type": "display_data"
    },
    {
     "data": {
      "image/png": "[encoded data removed]",
      "text/plain": [
       "<Figure size 360x360 with 1 Axes>"
      ]
     },
     "metadata": {
      "needs_background": "light"
     },
     "output_type": "display_data"
    }
   ],
   "source": [
    "# Example EDA (distplot)\n",
    "from seaborn import displot\n",
    "for feature in [\"carat\",\"depth\",\"table\",\"x\",\"y\",\"z\"]:\n",
    "    print(displot(df[feature]))"
   ]
  },
  {
   "cell_type": "markdown",
   "metadata": {},
   "source": [
    "# Preprocessing\n",
    "\n",
    "- Are there any duplicated values?\n",
    "- Do we need to do feature scaling?\n",
    "- Do we need to generate new features?\n",
    "- Split dataset into train and test sets. (0.7/0.3)"
   ]
  },
  {
   "cell_type": "code",
   "execution_count": 310,
   "metadata": {},
   "outputs": [
    {
     "data": {
      "text/html": [
       "<div>\n",
       "<style scoped>\n",
       "    .dataframe tbody tr th:only-of-type {\n",
       "        vertical-align: middle;\n",
       "    }\n",
       "\n",
       "    .dataframe tbody tr th {\n",
       "        vertical-align: top;\n",
       "    }\n",
       "\n",
       "    .dataframe thead th {\n",
       "        text-align: right;\n",
       "    }\n",
       "</style>\n",
       "<table border=\"1\" class=\"dataframe\">\n",
       "  <thead>\n",
       "    <tr style=\"text-align: right;\">\n",
       "      <th></th>\n",
       "      <th>index</th>\n",
       "      <th>carat</th>\n",
       "      <th>cut</th>\n",
       "      <th>color</th>\n",
       "      <th>clarity</th>\n",
       "      <th>depth</th>\n",
       "      <th>table</th>\n",
       "      <th>x</th>\n",
       "      <th>y</th>\n",
       "      <th>z</th>\n",
       "      <th>price</th>\n",
       "    </tr>\n",
       "  </thead>\n",
       "  <tbody>\n",
       "    <tr>\n",
       "      <th>0</th>\n",
       "      <td>1</td>\n",
       "      <td>0.23</td>\n",
       "      <td>Ideal</td>\n",
       "      <td>E</td>\n",
       "      <td>SI2</td>\n",
       "      <td>61.5</td>\n",
       "      <td>55.0</td>\n",
       "      <td>3.95</td>\n",
       "      <td>3.98</td>\n",
       "      <td>2.43</td>\n",
       "      <td>Very Low</td>\n",
       "    </tr>\n",
       "    <tr>\n",
       "      <th>1</th>\n",
       "      <td>2</td>\n",
       "      <td>0.21</td>\n",
       "      <td>Premium</td>\n",
       "      <td>E</td>\n",
       "      <td>SI1</td>\n",
       "      <td>59.8</td>\n",
       "      <td>61.0</td>\n",
       "      <td>3.89</td>\n",
       "      <td>3.84</td>\n",
       "      <td>2.31</td>\n",
       "      <td>Very Low</td>\n",
       "    </tr>\n",
       "    <tr>\n",
       "      <th>2</th>\n",
       "      <td>3</td>\n",
       "      <td>0.23</td>\n",
       "      <td>Good</td>\n",
       "      <td>E</td>\n",
       "      <td>VS1</td>\n",
       "      <td>56.9</td>\n",
       "      <td>65.0</td>\n",
       "      <td>4.05</td>\n",
       "      <td>4.07</td>\n",
       "      <td>2.31</td>\n",
       "      <td>Very Low</td>\n",
       "    </tr>\n",
       "    <tr>\n",
       "      <th>3</th>\n",
       "      <td>4</td>\n",
       "      <td>0.29</td>\n",
       "      <td>Premium</td>\n",
       "      <td>I</td>\n",
       "      <td>VS2</td>\n",
       "      <td>62.4</td>\n",
       "      <td>58.0</td>\n",
       "      <td>4.20</td>\n",
       "      <td>4.23</td>\n",
       "      <td>2.63</td>\n",
       "      <td>Very Low</td>\n",
       "    </tr>\n",
       "    <tr>\n",
       "      <th>4</th>\n",
       "      <td>5</td>\n",
       "      <td>0.31</td>\n",
       "      <td>Good</td>\n",
       "      <td>J</td>\n",
       "      <td>SI2</td>\n",
       "      <td>63.3</td>\n",
       "      <td>58.0</td>\n",
       "      <td>4.34</td>\n",
       "      <td>4.35</td>\n",
       "      <td>2.75</td>\n",
       "      <td>Very Low</td>\n",
       "    </tr>\n",
       "    <tr>\n",
       "      <th>...</th>\n",
       "      <td>...</td>\n",
       "      <td>...</td>\n",
       "      <td>...</td>\n",
       "      <td>...</td>\n",
       "      <td>...</td>\n",
       "      <td>...</td>\n",
       "      <td>...</td>\n",
       "      <td>...</td>\n",
       "      <td>...</td>\n",
       "      <td>...</td>\n",
       "      <td>...</td>\n",
       "    </tr>\n",
       "    <tr>\n",
       "      <th>53935</th>\n",
       "      <td>53936</td>\n",
       "      <td>0.72</td>\n",
       "      <td>Ideal</td>\n",
       "      <td>D</td>\n",
       "      <td>SI1</td>\n",
       "      <td>60.8</td>\n",
       "      <td>57.0</td>\n",
       "      <td>5.75</td>\n",
       "      <td>5.76</td>\n",
       "      <td>3.50</td>\n",
       "      <td>Very Low</td>\n",
       "    </tr>\n",
       "    <tr>\n",
       "      <th>53936</th>\n",
       "      <td>53937</td>\n",
       "      <td>0.72</td>\n",
       "      <td>Good</td>\n",
       "      <td>D</td>\n",
       "      <td>SI1</td>\n",
       "      <td>63.1</td>\n",
       "      <td>55.0</td>\n",
       "      <td>5.69</td>\n",
       "      <td>5.75</td>\n",
       "      <td>3.61</td>\n",
       "      <td>Very Low</td>\n",
       "    </tr>\n",
       "    <tr>\n",
       "      <th>53937</th>\n",
       "      <td>53938</td>\n",
       "      <td>0.70</td>\n",
       "      <td>Very Good</td>\n",
       "      <td>D</td>\n",
       "      <td>SI1</td>\n",
       "      <td>62.8</td>\n",
       "      <td>60.0</td>\n",
       "      <td>5.66</td>\n",
       "      <td>5.68</td>\n",
       "      <td>3.56</td>\n",
       "      <td>Very Low</td>\n",
       "    </tr>\n",
       "    <tr>\n",
       "      <th>53938</th>\n",
       "      <td>53939</td>\n",
       "      <td>0.86</td>\n",
       "      <td>Premium</td>\n",
       "      <td>H</td>\n",
       "      <td>SI2</td>\n",
       "      <td>61.0</td>\n",
       "      <td>58.0</td>\n",
       "      <td>6.15</td>\n",
       "      <td>6.12</td>\n",
       "      <td>3.74</td>\n",
       "      <td>Very Low</td>\n",
       "    </tr>\n",
       "    <tr>\n",
       "      <th>53939</th>\n",
       "      <td>53940</td>\n",
       "      <td>0.75</td>\n",
       "      <td>Ideal</td>\n",
       "      <td>D</td>\n",
       "      <td>SI2</td>\n",
       "      <td>62.2</td>\n",
       "      <td>55.0</td>\n",
       "      <td>5.83</td>\n",
       "      <td>5.87</td>\n",
       "      <td>3.64</td>\n",
       "      <td>Very Low</td>\n",
       "    </tr>\n",
       "  </tbody>\n",
       "</table>\n",
       "<p>53940 rows × 11 columns</p>\n",
       "</div>"
      ],
      "text/plain": [
       "       index  carat        cut color clarity  depth  table     x     y     z  \\\n",
       "0          1   0.23      Ideal     E     SI2   61.5   55.0  3.95  3.98  2.43   \n",
       "1          2   0.21    Premium     E     SI1   59.8   61.0  3.89  3.84  2.31   \n",
       "2          3   0.23       Good     E     VS1   56.9   65.0  4.05  4.07  2.31   \n",
       "3          4   0.29    Premium     I     VS2   62.4   58.0  4.20  4.23  2.63   \n",
       "4          5   0.31       Good     J     SI2   63.3   58.0  4.34  4.35  2.75   \n",
       "...      ...    ...        ...   ...     ...    ...    ...   ...   ...   ...   \n",
       "53935  53936   0.72      Ideal     D     SI1   60.8   57.0  5.75  5.76  3.50   \n",
       "53936  53937   0.72       Good     D     SI1   63.1   55.0  5.69  5.75  3.61   \n",
       "53937  53938   0.70  Very Good     D     SI1   62.8   60.0  5.66  5.68  3.56   \n",
       "53938  53939   0.86    Premium     H     SI2   61.0   58.0  6.15  6.12  3.74   \n",
       "53939  53940   0.75      Ideal     D     SI2   62.2   55.0  5.83  5.87  3.64   \n",
       "\n",
       "          price  \n",
       "0      Very Low  \n",
       "1      Very Low  \n",
       "2      Very Low  \n",
       "3      Very Low  \n",
       "4      Very Low  \n",
       "...         ...  \n",
       "53935  Very Low  \n",
       "53936  Very Low  \n",
       "53937  Very Low  \n",
       "53938  Very Low  \n",
       "53939  Very Low  \n",
       "\n",
       "[53940 rows x 11 columns]"
      ]
     },
     "execution_count": 310,
     "metadata": {},
     "output_type": "execute_result"
    }
   ],
   "source": [
    "df.drop_duplicates()"
   ]
  },
  {
   "cell_type": "markdown",
   "metadata": {},
   "source": [
    "# Outlier Handling\n",
    "Let us commence with outlier handling via IQR method before further data preprocessing."
   ]
  },
  {
   "cell_type": "code",
   "execution_count": 311,
   "metadata": {},
   "outputs": [
    {
     "data": {
      "text/html": [
       "<div>\n",
       "<style scoped>\n",
       "    .dataframe tbody tr th:only-of-type {\n",
       "        vertical-align: middle;\n",
       "    }\n",
       "\n",
       "    .dataframe tbody tr th {\n",
       "        vertical-align: top;\n",
       "    }\n",
       "\n",
       "    .dataframe thead th {\n",
       "        text-align: right;\n",
       "    }\n",
       "</style>\n",
       "<table border=\"1\" class=\"dataframe\">\n",
       "  <thead>\n",
       "    <tr style=\"text-align: right;\">\n",
       "      <th></th>\n",
       "      <th>index</th>\n",
       "      <th>carat</th>\n",
       "      <th>cut</th>\n",
       "      <th>color</th>\n",
       "      <th>clarity</th>\n",
       "      <th>depth</th>\n",
       "      <th>table</th>\n",
       "      <th>x</th>\n",
       "      <th>y</th>\n",
       "      <th>z</th>\n",
       "      <th>price</th>\n",
       "    </tr>\n",
       "  </thead>\n",
       "  <tbody>\n",
       "    <tr>\n",
       "      <th>0</th>\n",
       "      <td>1</td>\n",
       "      <td>0.23</td>\n",
       "      <td>Ideal</td>\n",
       "      <td>E</td>\n",
       "      <td>SI2</td>\n",
       "      <td>61.5</td>\n",
       "      <td>55.0</td>\n",
       "      <td>3.95</td>\n",
       "      <td>3.98</td>\n",
       "      <td>2.43</td>\n",
       "      <td>Very Low</td>\n",
       "    </tr>\n",
       "    <tr>\n",
       "      <th>1</th>\n",
       "      <td>2</td>\n",
       "      <td>0.21</td>\n",
       "      <td>Premium</td>\n",
       "      <td>E</td>\n",
       "      <td>SI1</td>\n",
       "      <td>59.8</td>\n",
       "      <td>61.0</td>\n",
       "      <td>3.89</td>\n",
       "      <td>3.84</td>\n",
       "      <td>2.31</td>\n",
       "      <td>Very Low</td>\n",
       "    </tr>\n",
       "    <tr>\n",
       "      <th>3</th>\n",
       "      <td>4</td>\n",
       "      <td>0.29</td>\n",
       "      <td>Premium</td>\n",
       "      <td>I</td>\n",
       "      <td>VS2</td>\n",
       "      <td>62.4</td>\n",
       "      <td>58.0</td>\n",
       "      <td>4.20</td>\n",
       "      <td>4.23</td>\n",
       "      <td>2.63</td>\n",
       "      <td>Very Low</td>\n",
       "    </tr>\n",
       "    <tr>\n",
       "      <th>4</th>\n",
       "      <td>5</td>\n",
       "      <td>0.31</td>\n",
       "      <td>Good</td>\n",
       "      <td>J</td>\n",
       "      <td>SI2</td>\n",
       "      <td>63.3</td>\n",
       "      <td>58.0</td>\n",
       "      <td>4.34</td>\n",
       "      <td>4.35</td>\n",
       "      <td>2.75</td>\n",
       "      <td>Very Low</td>\n",
       "    </tr>\n",
       "    <tr>\n",
       "      <th>5</th>\n",
       "      <td>6</td>\n",
       "      <td>0.24</td>\n",
       "      <td>Very Good</td>\n",
       "      <td>J</td>\n",
       "      <td>VVS2</td>\n",
       "      <td>62.8</td>\n",
       "      <td>57.0</td>\n",
       "      <td>3.94</td>\n",
       "      <td>3.96</td>\n",
       "      <td>2.48</td>\n",
       "      <td>Very Low</td>\n",
       "    </tr>\n",
       "    <tr>\n",
       "      <th>...</th>\n",
       "      <td>...</td>\n",
       "      <td>...</td>\n",
       "      <td>...</td>\n",
       "      <td>...</td>\n",
       "      <td>...</td>\n",
       "      <td>...</td>\n",
       "      <td>...</td>\n",
       "      <td>...</td>\n",
       "      <td>...</td>\n",
       "      <td>...</td>\n",
       "      <td>...</td>\n",
       "    </tr>\n",
       "    <tr>\n",
       "      <th>53935</th>\n",
       "      <td>53936</td>\n",
       "      <td>0.72</td>\n",
       "      <td>Ideal</td>\n",
       "      <td>D</td>\n",
       "      <td>SI1</td>\n",
       "      <td>60.8</td>\n",
       "      <td>57.0</td>\n",
       "      <td>5.75</td>\n",
       "      <td>5.76</td>\n",
       "      <td>3.50</td>\n",
       "      <td>Very Low</td>\n",
       "    </tr>\n",
       "    <tr>\n",
       "      <th>53936</th>\n",
       "      <td>53937</td>\n",
       "      <td>0.72</td>\n",
       "      <td>Good</td>\n",
       "      <td>D</td>\n",
       "      <td>SI1</td>\n",
       "      <td>63.1</td>\n",
       "      <td>55.0</td>\n",
       "      <td>5.69</td>\n",
       "      <td>5.75</td>\n",
       "      <td>3.61</td>\n",
       "      <td>Very Low</td>\n",
       "    </tr>\n",
       "    <tr>\n",
       "      <th>53937</th>\n",
       "      <td>53938</td>\n",
       "      <td>0.70</td>\n",
       "      <td>Very Good</td>\n",
       "      <td>D</td>\n",
       "      <td>SI1</td>\n",
       "      <td>62.8</td>\n",
       "      <td>60.0</td>\n",
       "      <td>5.66</td>\n",
       "      <td>5.68</td>\n",
       "      <td>3.56</td>\n",
       "      <td>Very Low</td>\n",
       "    </tr>\n",
       "    <tr>\n",
       "      <th>53938</th>\n",
       "      <td>53939</td>\n",
       "      <td>0.86</td>\n",
       "      <td>Premium</td>\n",
       "      <td>H</td>\n",
       "      <td>SI2</td>\n",
       "      <td>61.0</td>\n",
       "      <td>58.0</td>\n",
       "      <td>6.15</td>\n",
       "      <td>6.12</td>\n",
       "      <td>3.74</td>\n",
       "      <td>Very Low</td>\n",
       "    </tr>\n",
       "    <tr>\n",
       "      <th>53939</th>\n",
       "      <td>53940</td>\n",
       "      <td>0.75</td>\n",
       "      <td>Ideal</td>\n",
       "      <td>D</td>\n",
       "      <td>SI2</td>\n",
       "      <td>62.2</td>\n",
       "      <td>55.0</td>\n",
       "      <td>5.83</td>\n",
       "      <td>5.87</td>\n",
       "      <td>3.64</td>\n",
       "      <td>Very Low</td>\n",
       "    </tr>\n",
       "  </tbody>\n",
       "</table>\n",
       "<p>48436 rows × 11 columns</p>\n",
       "</div>"
      ],
      "text/plain": [
       "       index  carat        cut color clarity  depth  table     x     y     z  \\\n",
       "0          1   0.23      Ideal     E     SI2   61.5   55.0  3.95  3.98  2.43   \n",
       "1          2   0.21    Premium     E     SI1   59.8   61.0  3.89  3.84  2.31   \n",
       "3          4   0.29    Premium     I     VS2   62.4   58.0  4.20  4.23  2.63   \n",
       "4          5   0.31       Good     J     SI2   63.3   58.0  4.34  4.35  2.75   \n",
       "5          6   0.24  Very Good     J    VVS2   62.8   57.0  3.94  3.96  2.48   \n",
       "...      ...    ...        ...   ...     ...    ...    ...   ...   ...   ...   \n",
       "53935  53936   0.72      Ideal     D     SI1   60.8   57.0  5.75  5.76  3.50   \n",
       "53936  53937   0.72       Good     D     SI1   63.1   55.0  5.69  5.75  3.61   \n",
       "53937  53938   0.70  Very Good     D     SI1   62.8   60.0  5.66  5.68  3.56   \n",
       "53938  53939   0.86    Premium     H     SI2   61.0   58.0  6.15  6.12  3.74   \n",
       "53939  53940   0.75      Ideal     D     SI2   62.2   55.0  5.83  5.87  3.64   \n",
       "\n",
       "          price  \n",
       "0      Very Low  \n",
       "1      Very Low  \n",
       "3      Very Low  \n",
       "4      Very Low  \n",
       "5      Very Low  \n",
       "...         ...  \n",
       "53935  Very Low  \n",
       "53936  Very Low  \n",
       "53937  Very Low  \n",
       "53938  Very Low  \n",
       "53939  Very Low  \n",
       "\n",
       "[48436 rows x 11 columns]"
      ]
     },
     "execution_count": 311,
     "metadata": {},
     "output_type": "execute_result"
    }
   ],
   "source": [
    "for feature in [\"carat\",\"depth\",\"table\",\"x\",\"y\",\"z\"]:\n",
    "    Q1 = df[feature].quantile(0.25)\n",
    "    Q3 = df[feature].quantile(0.75)\n",
    "    IQR = Q3 - Q1\n",
    "    df= df.loc[(df[feature]>Q1-1.5*IQR) & (df[feature]<Q3+1.5*IQR),:].dropna()\n",
    "df\n"
   ]
  },
  {
   "cell_type": "markdown",
   "metadata": {},
   "source": [
    "# Feature Scaling\n",
    "Although Decision Trees do not require any feature scaling, we will apply not only Decision Tree Classifier but also Support Vector Classifier for this problem. Thus, feature scaling is preferable at this point."
   ]
  },
  {
   "cell_type": "code",
   "execution_count": 312,
   "metadata": {},
   "outputs": [
    {
     "data": {
      "text/html": [
       "<div>\n",
       "<style scoped>\n",
       "    .dataframe tbody tr th:only-of-type {\n",
       "        vertical-align: middle;\n",
       "    }\n",
       "\n",
       "    .dataframe tbody tr th {\n",
       "        vertical-align: top;\n",
       "    }\n",
       "\n",
       "    .dataframe thead th {\n",
       "        text-align: right;\n",
       "    }\n",
       "</style>\n",
       "<table border=\"1\" class=\"dataframe\">\n",
       "  <thead>\n",
       "    <tr style=\"text-align: right;\">\n",
       "      <th></th>\n",
       "      <th>index</th>\n",
       "      <th>carat</th>\n",
       "      <th>cut</th>\n",
       "      <th>color</th>\n",
       "      <th>clarity</th>\n",
       "      <th>depth</th>\n",
       "      <th>table</th>\n",
       "      <th>x</th>\n",
       "      <th>y</th>\n",
       "      <th>z</th>\n",
       "      <th>price</th>\n",
       "    </tr>\n",
       "  </thead>\n",
       "  <tbody>\n",
       "    <tr>\n",
       "      <th>0</th>\n",
       "      <td>1</td>\n",
       "      <td>0.016760</td>\n",
       "      <td>Ideal</td>\n",
       "      <td>E</td>\n",
       "      <td>SI2</td>\n",
       "      <td>0.444444</td>\n",
       "      <td>0.263158</td>\n",
       "      <td>0.049217</td>\n",
       "      <td>0.066225</td>\n",
       "      <td>0.279452</td>\n",
       "      <td>Very Low</td>\n",
       "    </tr>\n",
       "    <tr>\n",
       "      <th>1</th>\n",
       "      <td>2</td>\n",
       "      <td>0.005587</td>\n",
       "      <td>Premium</td>\n",
       "      <td>E</td>\n",
       "      <td>SI1</td>\n",
       "      <td>0.129630</td>\n",
       "      <td>0.789474</td>\n",
       "      <td>0.035794</td>\n",
       "      <td>0.035320</td>\n",
       "      <td>0.246575</td>\n",
       "      <td>Very Low</td>\n",
       "    </tr>\n",
       "    <tr>\n",
       "      <th>3</th>\n",
       "      <td>4</td>\n",
       "      <td>0.050279</td>\n",
       "      <td>Premium</td>\n",
       "      <td>I</td>\n",
       "      <td>VS2</td>\n",
       "      <td>0.611111</td>\n",
       "      <td>0.526316</td>\n",
       "      <td>0.105145</td>\n",
       "      <td>0.121413</td>\n",
       "      <td>0.334247</td>\n",
       "      <td>Very Low</td>\n",
       "    </tr>\n",
       "    <tr>\n",
       "      <th>4</th>\n",
       "      <td>5</td>\n",
       "      <td>0.061453</td>\n",
       "      <td>Good</td>\n",
       "      <td>J</td>\n",
       "      <td>SI2</td>\n",
       "      <td>0.777778</td>\n",
       "      <td>0.526316</td>\n",
       "      <td>0.136465</td>\n",
       "      <td>0.147903</td>\n",
       "      <td>0.367123</td>\n",
       "      <td>Very Low</td>\n",
       "    </tr>\n",
       "    <tr>\n",
       "      <th>5</th>\n",
       "      <td>6</td>\n",
       "      <td>0.022346</td>\n",
       "      <td>Very Good</td>\n",
       "      <td>J</td>\n",
       "      <td>VVS2</td>\n",
       "      <td>0.685185</td>\n",
       "      <td>0.438596</td>\n",
       "      <td>0.046980</td>\n",
       "      <td>0.061810</td>\n",
       "      <td>0.293151</td>\n",
       "      <td>Very Low</td>\n",
       "    </tr>\n",
       "    <tr>\n",
       "      <th>...</th>\n",
       "      <td>...</td>\n",
       "      <td>...</td>\n",
       "      <td>...</td>\n",
       "      <td>...</td>\n",
       "      <td>...</td>\n",
       "      <td>...</td>\n",
       "      <td>...</td>\n",
       "      <td>...</td>\n",
       "      <td>...</td>\n",
       "      <td>...</td>\n",
       "      <td>...</td>\n",
       "    </tr>\n",
       "    <tr>\n",
       "      <th>53935</th>\n",
       "      <td>53936</td>\n",
       "      <td>0.290503</td>\n",
       "      <td>Ideal</td>\n",
       "      <td>D</td>\n",
       "      <td>SI1</td>\n",
       "      <td>0.314815</td>\n",
       "      <td>0.438596</td>\n",
       "      <td>0.451902</td>\n",
       "      <td>0.459161</td>\n",
       "      <td>0.572603</td>\n",
       "      <td>Very Low</td>\n",
       "    </tr>\n",
       "    <tr>\n",
       "      <th>53936</th>\n",
       "      <td>53937</td>\n",
       "      <td>0.290503</td>\n",
       "      <td>Good</td>\n",
       "      <td>D</td>\n",
       "      <td>SI1</td>\n",
       "      <td>0.740741</td>\n",
       "      <td>0.263158</td>\n",
       "      <td>0.438479</td>\n",
       "      <td>0.456954</td>\n",
       "      <td>0.602740</td>\n",
       "      <td>Very Low</td>\n",
       "    </tr>\n",
       "    <tr>\n",
       "      <th>53937</th>\n",
       "      <td>53938</td>\n",
       "      <td>0.279330</td>\n",
       "      <td>Very Good</td>\n",
       "      <td>D</td>\n",
       "      <td>SI1</td>\n",
       "      <td>0.685185</td>\n",
       "      <td>0.701754</td>\n",
       "      <td>0.431767</td>\n",
       "      <td>0.441501</td>\n",
       "      <td>0.589041</td>\n",
       "      <td>Very Low</td>\n",
       "    </tr>\n",
       "    <tr>\n",
       "      <th>53938</th>\n",
       "      <td>53939</td>\n",
       "      <td>0.368715</td>\n",
       "      <td>Premium</td>\n",
       "      <td>H</td>\n",
       "      <td>SI2</td>\n",
       "      <td>0.351852</td>\n",
       "      <td>0.526316</td>\n",
       "      <td>0.541387</td>\n",
       "      <td>0.538631</td>\n",
       "      <td>0.638356</td>\n",
       "      <td>Very Low</td>\n",
       "    </tr>\n",
       "    <tr>\n",
       "      <th>53939</th>\n",
       "      <td>53940</td>\n",
       "      <td>0.307263</td>\n",
       "      <td>Ideal</td>\n",
       "      <td>D</td>\n",
       "      <td>SI2</td>\n",
       "      <td>0.574074</td>\n",
       "      <td>0.263158</td>\n",
       "      <td>0.469799</td>\n",
       "      <td>0.483444</td>\n",
       "      <td>0.610959</td>\n",
       "      <td>Very Low</td>\n",
       "    </tr>\n",
       "  </tbody>\n",
       "</table>\n",
       "<p>48436 rows × 11 columns</p>\n",
       "</div>"
      ],
      "text/plain": [
       "       index     carat        cut color clarity     depth     table         x  \\\n",
       "0          1  0.016760      Ideal     E     SI2  0.444444  0.263158  0.049217   \n",
       "1          2  0.005587    Premium     E     SI1  0.129630  0.789474  0.035794   \n",
       "3          4  0.050279    Premium     I     VS2  0.611111  0.526316  0.105145   \n",
       "4          5  0.061453       Good     J     SI2  0.777778  0.526316  0.136465   \n",
       "5          6  0.022346  Very Good     J    VVS2  0.685185  0.438596  0.046980   \n",
       "...      ...       ...        ...   ...     ...       ...       ...       ...   \n",
       "53935  53936  0.290503      Ideal     D     SI1  0.314815  0.438596  0.451902   \n",
       "53936  53937  0.290503       Good     D     SI1  0.740741  0.263158  0.438479   \n",
       "53937  53938  0.279330  Very Good     D     SI1  0.685185  0.701754  0.431767   \n",
       "53938  53939  0.368715    Premium     H     SI2  0.351852  0.526316  0.541387   \n",
       "53939  53940  0.307263      Ideal     D     SI2  0.574074  0.263158  0.469799   \n",
       "\n",
       "              y         z     price  \n",
       "0      0.066225  0.279452  Very Low  \n",
       "1      0.035320  0.246575  Very Low  \n",
       "3      0.121413  0.334247  Very Low  \n",
       "4      0.147903  0.367123  Very Low  \n",
       "5      0.061810  0.293151  Very Low  \n",
       "...         ...       ...       ...  \n",
       "53935  0.459161  0.572603  Very Low  \n",
       "53936  0.456954  0.602740  Very Low  \n",
       "53937  0.441501  0.589041  Very Low  \n",
       "53938  0.538631  0.638356  Very Low  \n",
       "53939  0.483444  0.610959  Very Low  \n",
       "\n",
       "[48436 rows x 11 columns]"
      ]
     },
     "execution_count": 312,
     "metadata": {},
     "output_type": "execute_result"
    }
   ],
   "source": [
    "for feature in [\"carat\",\"x\",\"y\",\"z\",\"table\",\"depth\"]:\n",
    "    df.loc[:,feature] = (df.loc[:,feature] - min(df.loc[:,feature]))/(max(df.loc[:,feature])-min(df.loc[:,feature]))\n",
    "\n",
    "df"
   ]
  },
  {
   "cell_type": "markdown",
   "metadata": {},
   "source": [
    "# Feature Encoding\n",
    "We need to encode categorical features in order our model to understand and train."
   ]
  },
  {
   "cell_type": "code",
   "execution_count": 313,
   "metadata": {},
   "outputs": [
    {
     "data": {
      "text/html": [
       "<div>\n",
       "<style scoped>\n",
       "    .dataframe tbody tr th:only-of-type {\n",
       "        vertical-align: middle;\n",
       "    }\n",
       "\n",
       "    .dataframe tbody tr th {\n",
       "        vertical-align: top;\n",
       "    }\n",
       "\n",
       "    .dataframe thead th {\n",
       "        text-align: right;\n",
       "    }\n",
       "</style>\n",
       "<table border=\"1\" class=\"dataframe\">\n",
       "  <thead>\n",
       "    <tr style=\"text-align: right;\">\n",
       "      <th></th>\n",
       "      <th>index</th>\n",
       "      <th>carat</th>\n",
       "      <th>depth</th>\n",
       "      <th>table</th>\n",
       "      <th>x</th>\n",
       "      <th>y</th>\n",
       "      <th>z</th>\n",
       "      <th>Fair</th>\n",
       "      <th>Good</th>\n",
       "      <th>Ideal</th>\n",
       "      <th>...</th>\n",
       "      <th>J</th>\n",
       "      <th>I1</th>\n",
       "      <th>IF</th>\n",
       "      <th>SI1</th>\n",
       "      <th>SI2</th>\n",
       "      <th>VS1</th>\n",
       "      <th>VS2</th>\n",
       "      <th>VVS1</th>\n",
       "      <th>VVS2</th>\n",
       "      <th>price</th>\n",
       "    </tr>\n",
       "  </thead>\n",
       "  <tbody>\n",
       "    <tr>\n",
       "      <th>0</th>\n",
       "      <td>1</td>\n",
       "      <td>0.016760</td>\n",
       "      <td>0.444444</td>\n",
       "      <td>0.263158</td>\n",
       "      <td>0.049217</td>\n",
       "      <td>0.066225</td>\n",
       "      <td>0.279452</td>\n",
       "      <td>0</td>\n",
       "      <td>0</td>\n",
       "      <td>1</td>\n",
       "      <td>...</td>\n",
       "      <td>0</td>\n",
       "      <td>0</td>\n",
       "      <td>0</td>\n",
       "      <td>0</td>\n",
       "      <td>1</td>\n",
       "      <td>0</td>\n",
       "      <td>0</td>\n",
       "      <td>0</td>\n",
       "      <td>0</td>\n",
       "      <td>4</td>\n",
       "    </tr>\n",
       "    <tr>\n",
       "      <th>1</th>\n",
       "      <td>2</td>\n",
       "      <td>0.005587</td>\n",
       "      <td>0.129630</td>\n",
       "      <td>0.789474</td>\n",
       "      <td>0.035794</td>\n",
       "      <td>0.035320</td>\n",
       "      <td>0.246575</td>\n",
       "      <td>0</td>\n",
       "      <td>0</td>\n",
       "      <td>0</td>\n",
       "      <td>...</td>\n",
       "      <td>0</td>\n",
       "      <td>0</td>\n",
       "      <td>0</td>\n",
       "      <td>1</td>\n",
       "      <td>0</td>\n",
       "      <td>0</td>\n",
       "      <td>0</td>\n",
       "      <td>0</td>\n",
       "      <td>0</td>\n",
       "      <td>4</td>\n",
       "    </tr>\n",
       "    <tr>\n",
       "      <th>3</th>\n",
       "      <td>4</td>\n",
       "      <td>0.050279</td>\n",
       "      <td>0.611111</td>\n",
       "      <td>0.526316</td>\n",
       "      <td>0.105145</td>\n",
       "      <td>0.121413</td>\n",
       "      <td>0.334247</td>\n",
       "      <td>0</td>\n",
       "      <td>0</td>\n",
       "      <td>0</td>\n",
       "      <td>...</td>\n",
       "      <td>0</td>\n",
       "      <td>0</td>\n",
       "      <td>0</td>\n",
       "      <td>0</td>\n",
       "      <td>0</td>\n",
       "      <td>0</td>\n",
       "      <td>1</td>\n",
       "      <td>0</td>\n",
       "      <td>0</td>\n",
       "      <td>4</td>\n",
       "    </tr>\n",
       "    <tr>\n",
       "      <th>4</th>\n",
       "      <td>5</td>\n",
       "      <td>0.061453</td>\n",
       "      <td>0.777778</td>\n",
       "      <td>0.526316</td>\n",
       "      <td>0.136465</td>\n",
       "      <td>0.147903</td>\n",
       "      <td>0.367123</td>\n",
       "      <td>0</td>\n",
       "      <td>1</td>\n",
       "      <td>0</td>\n",
       "      <td>...</td>\n",
       "      <td>1</td>\n",
       "      <td>0</td>\n",
       "      <td>0</td>\n",
       "      <td>0</td>\n",
       "      <td>1</td>\n",
       "      <td>0</td>\n",
       "      <td>0</td>\n",
       "      <td>0</td>\n",
       "      <td>0</td>\n",
       "      <td>4</td>\n",
       "    </tr>\n",
       "    <tr>\n",
       "      <th>5</th>\n",
       "      <td>6</td>\n",
       "      <td>0.022346</td>\n",
       "      <td>0.685185</td>\n",
       "      <td>0.438596</td>\n",
       "      <td>0.046980</td>\n",
       "      <td>0.061810</td>\n",
       "      <td>0.293151</td>\n",
       "      <td>0</td>\n",
       "      <td>0</td>\n",
       "      <td>0</td>\n",
       "      <td>...</td>\n",
       "      <td>1</td>\n",
       "      <td>0</td>\n",
       "      <td>0</td>\n",
       "      <td>0</td>\n",
       "      <td>0</td>\n",
       "      <td>0</td>\n",
       "      <td>0</td>\n",
       "      <td>0</td>\n",
       "      <td>1</td>\n",
       "      <td>4</td>\n",
       "    </tr>\n",
       "    <tr>\n",
       "      <th>...</th>\n",
       "      <td>...</td>\n",
       "      <td>...</td>\n",
       "      <td>...</td>\n",
       "      <td>...</td>\n",
       "      <td>...</td>\n",
       "      <td>...</td>\n",
       "      <td>...</td>\n",
       "      <td>...</td>\n",
       "      <td>...</td>\n",
       "      <td>...</td>\n",
       "      <td>...</td>\n",
       "      <td>...</td>\n",
       "      <td>...</td>\n",
       "      <td>...</td>\n",
       "      <td>...</td>\n",
       "      <td>...</td>\n",
       "      <td>...</td>\n",
       "      <td>...</td>\n",
       "      <td>...</td>\n",
       "      <td>...</td>\n",
       "      <td>...</td>\n",
       "    </tr>\n",
       "    <tr>\n",
       "      <th>53935</th>\n",
       "      <td>53936</td>\n",
       "      <td>0.290503</td>\n",
       "      <td>0.314815</td>\n",
       "      <td>0.438596</td>\n",
       "      <td>0.451902</td>\n",
       "      <td>0.459161</td>\n",
       "      <td>0.572603</td>\n",
       "      <td>0</td>\n",
       "      <td>0</td>\n",
       "      <td>1</td>\n",
       "      <td>...</td>\n",
       "      <td>0</td>\n",
       "      <td>0</td>\n",
       "      <td>0</td>\n",
       "      <td>1</td>\n",
       "      <td>0</td>\n",
       "      <td>0</td>\n",
       "      <td>0</td>\n",
       "      <td>0</td>\n",
       "      <td>0</td>\n",
       "      <td>4</td>\n",
       "    </tr>\n",
       "    <tr>\n",
       "      <th>53936</th>\n",
       "      <td>53937</td>\n",
       "      <td>0.290503</td>\n",
       "      <td>0.740741</td>\n",
       "      <td>0.263158</td>\n",
       "      <td>0.438479</td>\n",
       "      <td>0.456954</td>\n",
       "      <td>0.602740</td>\n",
       "      <td>0</td>\n",
       "      <td>1</td>\n",
       "      <td>0</td>\n",
       "      <td>...</td>\n",
       "      <td>0</td>\n",
       "      <td>0</td>\n",
       "      <td>0</td>\n",
       "      <td>1</td>\n",
       "      <td>0</td>\n",
       "      <td>0</td>\n",
       "      <td>0</td>\n",
       "      <td>0</td>\n",
       "      <td>0</td>\n",
       "      <td>4</td>\n",
       "    </tr>\n",
       "    <tr>\n",
       "      <th>53937</th>\n",
       "      <td>53938</td>\n",
       "      <td>0.279330</td>\n",
       "      <td>0.685185</td>\n",
       "      <td>0.701754</td>\n",
       "      <td>0.431767</td>\n",
       "      <td>0.441501</td>\n",
       "      <td>0.589041</td>\n",
       "      <td>0</td>\n",
       "      <td>0</td>\n",
       "      <td>0</td>\n",
       "      <td>...</td>\n",
       "      <td>0</td>\n",
       "      <td>0</td>\n",
       "      <td>0</td>\n",
       "      <td>1</td>\n",
       "      <td>0</td>\n",
       "      <td>0</td>\n",
       "      <td>0</td>\n",
       "      <td>0</td>\n",
       "      <td>0</td>\n",
       "      <td>4</td>\n",
       "    </tr>\n",
       "    <tr>\n",
       "      <th>53938</th>\n",
       "      <td>53939</td>\n",
       "      <td>0.368715</td>\n",
       "      <td>0.351852</td>\n",
       "      <td>0.526316</td>\n",
       "      <td>0.541387</td>\n",
       "      <td>0.538631</td>\n",
       "      <td>0.638356</td>\n",
       "      <td>0</td>\n",
       "      <td>0</td>\n",
       "      <td>0</td>\n",
       "      <td>...</td>\n",
       "      <td>0</td>\n",
       "      <td>0</td>\n",
       "      <td>0</td>\n",
       "      <td>0</td>\n",
       "      <td>1</td>\n",
       "      <td>0</td>\n",
       "      <td>0</td>\n",
       "      <td>0</td>\n",
       "      <td>0</td>\n",
       "      <td>4</td>\n",
       "    </tr>\n",
       "    <tr>\n",
       "      <th>53939</th>\n",
       "      <td>53940</td>\n",
       "      <td>0.307263</td>\n",
       "      <td>0.574074</td>\n",
       "      <td>0.263158</td>\n",
       "      <td>0.469799</td>\n",
       "      <td>0.483444</td>\n",
       "      <td>0.610959</td>\n",
       "      <td>0</td>\n",
       "      <td>0</td>\n",
       "      <td>1</td>\n",
       "      <td>...</td>\n",
       "      <td>0</td>\n",
       "      <td>0</td>\n",
       "      <td>0</td>\n",
       "      <td>0</td>\n",
       "      <td>1</td>\n",
       "      <td>0</td>\n",
       "      <td>0</td>\n",
       "      <td>0</td>\n",
       "      <td>0</td>\n",
       "      <td>4</td>\n",
       "    </tr>\n",
       "  </tbody>\n",
       "</table>\n",
       "<p>48436 rows × 28 columns</p>\n",
       "</div>"
      ],
      "text/plain": [
       "       index     carat     depth     table         x         y         z  \\\n",
       "0          1  0.016760  0.444444  0.263158  0.049217  0.066225  0.279452   \n",
       "1          2  0.005587  0.129630  0.789474  0.035794  0.035320  0.246575   \n",
       "3          4  0.050279  0.611111  0.526316  0.105145  0.121413  0.334247   \n",
       "4          5  0.061453  0.777778  0.526316  0.136465  0.147903  0.367123   \n",
       "5          6  0.022346  0.685185  0.438596  0.046980  0.061810  0.293151   \n",
       "...      ...       ...       ...       ...       ...       ...       ...   \n",
       "53935  53936  0.290503  0.314815  0.438596  0.451902  0.459161  0.572603   \n",
       "53936  53937  0.290503  0.740741  0.263158  0.438479  0.456954  0.602740   \n",
       "53937  53938  0.279330  0.685185  0.701754  0.431767  0.441501  0.589041   \n",
       "53938  53939  0.368715  0.351852  0.526316  0.541387  0.538631  0.638356   \n",
       "53939  53940  0.307263  0.574074  0.263158  0.469799  0.483444  0.610959   \n",
       "\n",
       "       Fair  Good  Ideal  ...  J  I1  IF  SI1  SI2  VS1  VS2  VVS1  VVS2  \\\n",
       "0         0     0      1  ...  0   0   0    0    1    0    0     0     0   \n",
       "1         0     0      0  ...  0   0   0    1    0    0    0     0     0   \n",
       "3         0     0      0  ...  0   0   0    0    0    0    1     0     0   \n",
       "4         0     1      0  ...  1   0   0    0    1    0    0     0     0   \n",
       "5         0     0      0  ...  1   0   0    0    0    0    0     0     1   \n",
       "...     ...   ...    ...  ... ..  ..  ..  ...  ...  ...  ...   ...   ...   \n",
       "53935     0     0      1  ...  0   0   0    1    0    0    0     0     0   \n",
       "53936     0     1      0  ...  0   0   0    1    0    0    0     0     0   \n",
       "53937     0     0      0  ...  0   0   0    1    0    0    0     0     0   \n",
       "53938     0     0      0  ...  0   0   0    0    1    0    0     0     0   \n",
       "53939     0     0      1  ...  0   0   0    0    1    0    0     0     0   \n",
       "\n",
       "       price  \n",
       "0          4  \n",
       "1          4  \n",
       "3          4  \n",
       "4          4  \n",
       "5          4  \n",
       "...      ...  \n",
       "53935      4  \n",
       "53936      4  \n",
       "53937      4  \n",
       "53938      4  \n",
       "53939      4  \n",
       "\n",
       "[48436 rows x 28 columns]"
      ]
     },
     "execution_count": 313,
     "metadata": {},
     "output_type": "execute_result"
    }
   ],
   "source": [
    "from sklearn.preprocessing import LabelEncoder\n",
    "le = LabelEncoder()\n",
    "target = df.price\n",
    "df = df.drop(\"price\",axis = 1)\n",
    "for feature in [\"cut\",\"color\",\"clarity\"]:\n",
    "    df = pd.concat([df, pd.get_dummies(df[feature])], axis=1)\n",
    "    df = df.drop(feature,axis=1)\n",
    "target = le.fit_transform(target)\n",
    "df[\"price\"] =target\n",
    "df"
   ]
  },
  {
   "cell_type": "markdown",
   "metadata": {},
   "source": [
    "# Correlation\n",
    "We might consider extracting some of the features from out data at this point, let us analyze the correlation tableu."
   ]
  },
  {
   "cell_type": "code",
   "execution_count": 314,
   "metadata": {},
   "outputs": [
    {
     "data": {
      "image/png": "[encoded data removed]",
      "text/plain": [
       "<Figure size 720x720 with 2 Axes>"
      ]
     },
     "metadata": {
      "needs_background": "light"
     },
     "output_type": "display_data"
    }
   ],
   "source": [
    "correlation = df.loc[:,[\"carat\",\"depth\",\"table\",\"x\",\"y\",\"z\",\"price\"]].corr()\n",
    "\n",
    "fig, w = plt.subplots(figsize=(10,10))\n",
    "sns.heatmap(correlation, annot = True, linewidths=.5, ax=w) \n",
    "\n",
    "plt.show()"
   ]
  },
  {
   "cell_type": "markdown",
   "metadata": {},
   "source": [
    "# ML Application\n",
    "Define models.\n",
    "Fit models.\n",
    "Evaluate models for both train and test dataset.\n",
    "Generate Confusion Matrix and scores of Accuracy, Recall, Precision and F1-Score.\n",
    "Analyse occurrence of overfitting and underfitting. If there is any of them, try to overcome it within a different section."
   ]
  },
  {
   "cell_type": "markdown",
   "metadata": {},
   "source": [
    "# Handling Imbalanced Data"
   ]
  },
  {
   "cell_type": "code",
   "execution_count": 315,
   "metadata": {},
   "outputs": [
    {
     "data": {
      "text/plain": [
       "<AxesSubplot:ylabel='count'>"
      ]
     },
     "execution_count": 315,
     "metadata": {},
     "output_type": "execute_result"
    },
    {
     "data": {
      "image/png": "[encoded data removed]",
      "text/plain": [
       "<Figure size 432x288 with 1 Axes>"
      ]
     },
     "metadata": {
      "needs_background": "light"
     },
     "output_type": "display_data"
    }
   ],
   "source": [
    "\n",
    "from imblearn.under_sampling import RandomUnderSampler\n",
    "\n",
    "df.price = target\n",
    "df = df.drop(\"price\",axis = 1)\n",
    "\n",
    "model = RandomUnderSampler(random_state=0)\n",
    "X_resampled, y_resampled = model.fit_resample(df, target)\n",
    "\n",
    "countplot(x =y_resampled)"
   ]
  },
  {
   "cell_type": "markdown",
   "metadata": {},
   "source": [
    "# Metric Evaluation\n",
    "Since we have balanced our data, the metric scores we will gain from our models are likely to be similar to one another. This would not be the case for imbalanced data due to accuracy being misleading. For our case, we might want to use F1 Score. F1 score takes the harmonic mean of precision and recall metrics and usually preferable for multiclass classifications."
   ]
  },
  {
   "cell_type": "markdown",
   "metadata": {},
   "source": [
    "# Decision Tree Classifier"
   ]
  },
  {
   "cell_type": "code",
   "execution_count": 355,
   "metadata": {},
   "outputs": [],
   "source": [
    "from sklearn.model_selection import train_test_split, cross_validate\n",
    "from sklearn.tree import DecisionTreeClassifier\n",
    "\n",
    "\n",
    "X_train, X_test, y_train, y_test = train_test_split(X_resampled, y_resampled, test_size= 0.3, random_state= 42)\n",
    "performances=[]\n"
   ]
  },
  {
   "cell_type": "code",
   "execution_count": 356,
   "metadata": {},
   "outputs": [
    {
     "name": "stdout",
     "output_type": "stream",
     "text": [
      "max_leaf_nodes: 64\n",
      "Mean training accuracy: 0.9910083493898524\n",
      "Test accuracy: 0.9940119760479041\n",
      "******************************\n",
      "max_leaf_nodes: 128\n",
      "Mean training accuracy: 0.9910083493898524\n",
      "Test accuracy: 0.9940119760479041\n",
      "******************************\n",
      "max_leaf_nodes: 256\n",
      "Mean training accuracy: 0.9910083493898524\n",
      "Test accuracy: 0.9940119760479041\n",
      "******************************\n",
      "max_leaf_nodes: 512\n",
      "Mean training accuracy: 0.9910083493898524\n",
      "Test accuracy: 0.9940119760479041\n",
      "******************************\n",
      "max_leaf_nodes: 1024\n",
      "Mean training accuracy: 0.9910083493898524\n",
      "Test accuracy: 0.9940119760479041\n",
      "******************************\n"
     ]
    }
   ],
   "source": [
    "\n",
    "for m in [64,128,256,512,1024]:\n",
    "    models = DecisionTreeClassifier(random_state=42, max_leaf_nodes=m)\n",
    "    cv = cross_validate(models,X_train, y_train, cv = 3, n_jobs=-1,return_estimator=True)\n",
    "    print(\"max_leaf_nodes:\",m)\n",
    "    print(\"Mean training accuracy:\",np.mean(cv['test_score']))\n",
    "    print(\"Test accuracy:\",cv[\"estimator\"][0].score(X_test,y_test))\n",
    "    print(\"*\"*30)\n",
    "\n",
    "pred = DecisionTreeClassifier(max_leaf_nodes=256).fit(X_train,y_train).predict(X_test)\n",
    "performances.append(f1_score(y_test, pred, average= \"macro\")*100)"
   ]
  },
  {
   "cell_type": "code",
   "execution_count": 358,
   "metadata": {},
   "outputs": [
    {
     "name": "stdout",
     "output_type": "stream",
     "text": [
      "Precision =  0.9913992304473256\n",
      "Recall =  0.9909643533001198\n",
      "Accuracy =  0.9910179640718563\n",
      "F1 Score = 0.991138336713996\n"
     ]
    },
    {
     "data": {
      "image/png": "[encoded data removed]",
      "text/plain": [
       "<Figure size 864x576 with 1 Axes>"
      ]
     },
     "metadata": {
      "needs_background": "light"
     },
     "output_type": "display_data"
    }
   ],
   "source": [
    "from sklearn.metrics import confusion_matrix\n",
    "from sklearn.metrics import f1_score, accuracy_score, recall_score, precision_score\n",
    "\n",
    "print(\"Precision = \",precision_score(y_test, pred, average= \"macro\"))\n",
    "print(\"Recall = \",recall_score(y_test, pred, average= \"macro\"))\n",
    "print(\"Accuracy = \",accuracy_score(y_test,pred))\n",
    "print(\"F1 Score =\",f1_score(y_test, pred, average= \"macro\"))\n",
    "\n",
    "cm = confusion_matrix(y_test, pred)\n",
    "plt.figure(figsize=(12, 8))\n",
    "ax =sns.heatmap(cm, square=True, annot=True, cbar=False, fmt = \".0f\")\n"
   ]
  },
  {
   "cell_type": "markdown",
   "metadata": {},
   "source": [
    "# Overfitting & Underfitting\n",
    "In our first model, we have encountered with great accuracy results. If there was overfitting or underfitting, our training results would not match the test results. It seems like both results are pretty close and around 0.99, there is no need to extra tuning."
   ]
  },
  {
   "cell_type": "markdown",
   "metadata": {},
   "source": [
    "# Random Forest Classifier"
   ]
  },
  {
   "cell_type": "code",
   "execution_count": 359,
   "metadata": {},
   "outputs": [
    {
     "name": "stdout",
     "output_type": "stream",
     "text": [
      "Mean training accuracy: 0.9736673089274245\n",
      "Test accuracy: 0.968562874251497\n",
      "******************************\n"
     ]
    }
   ],
   "source": [
    "from sklearn.ensemble import RandomForestClassifier\n",
    "\n",
    "models = RandomForestClassifier(random_state=42)\n",
    "cv = cross_validate(models,X_train, y_train, cv = 3, n_jobs=-1, return_estimator=True)\n",
    "print(\"Mean training accuracy:\",np.mean(cv['test_score']))\n",
    "print(\"Test accuracy:\",cv[\"estimator\"][0].score(X_test,y_test))\n",
    "print(\"*\"*30)\n",
    "\n",
    "pred = cv[\"estimator\"][0].predict(X_test)\n",
    "performances.append(f1_score(y_test, pred, average= \"macro\")*100)"
   ]
  },
  {
   "cell_type": "code",
   "execution_count": 360,
   "metadata": {},
   "outputs": [
    {
     "name": "stdout",
     "output_type": "stream",
     "text": [
      "Precision =  0.968822463768116\n",
      "Recall =  0.9695032441200324\n",
      "Accuracy =  0.968562874251497\n",
      "F1 Score = 0.9687209663011644\n"
     ]
    },
    {
     "data": {
      "image/png": "[encoded data removed]",
      "text/plain": [
       "<Figure size 864x576 with 1 Axes>"
      ]
     },
     "metadata": {
      "needs_background": "light"
     },
     "output_type": "display_data"
    }
   ],
   "source": [
    "\n",
    "print(\"Precision = \",precision_score(y_test, pred, average= \"macro\"))\n",
    "print(\"Recall = \",recall_score(y_test, pred, average= \"macro\"))\n",
    "print(\"Accuracy = \",accuracy_score(y_test,pred))\n",
    "print(\"F1 Score =\",f1_score(y_test, pred, average= \"macro\"))\n",
    "\n",
    "cm = confusion_matrix(y_test, pred)\n",
    "plt.figure(figsize=(12, 8))\n",
    "ax =sns.heatmap(cm, square=True, annot=True, cbar=False, fmt = \".0f\")"
   ]
  },
  {
   "cell_type": "markdown",
   "metadata": {},
   "source": [
    "# Overfitting & Underfitting\n",
    "In our second model, we again have encountered with great accuracy results. If there was overfitting or underfitting, our training results would not match the test results. It seems like, once again, both results are pretty close and around 0.96, there is no need to extra tuning."
   ]
  },
  {
   "cell_type": "markdown",
   "metadata": {},
   "source": [
    "# XGBoost"
   ]
  },
  {
   "cell_type": "code",
   "execution_count": 361,
   "metadata": {},
   "outputs": [
    {
     "name": "stdout",
     "output_type": "stream",
     "text": [
      "Accuracy for train =  0.9993577392421323\n",
      "Accuracy for test=  0.9970059880239521\n"
     ]
    }
   ],
   "source": [
    "import numpy as np\n",
    "import xgboost as xgb\n",
    "data_train = xgb.DMatrix(data=X_train, label=y_train)\n",
    "data_test = xgb.DMatrix(data=X_test, label=y_test)\n",
    "param = {'max_depth':3, \n",
    "         'eta':1, \n",
    "         'objective':'multi:softprob', \n",
    "        'min_child_weight':2,   \n",
    "         'num_class':5,\n",
    "         \"eval_metric\":\"logloss\"\n",
    "            }\n",
    "model = xgb.train(param, data_train, 2)\n",
    "preds1 = model.predict(data_test)\n",
    "preds2 = model.predict(data_train)\n",
    "\n",
    "pred1 = np.asarray([np.argmax(line) for line in preds1])\n",
    "pred2 = np.asarray([np.argmax(line) for line in preds2])\n",
    "\n",
    "print(\"Accuracy for train = \",accuracy_score(y_train,pred2))\n",
    "print(\"Accuracy for test= \",accuracy_score(y_test,pred1))\n",
    "\n",
    "performances.append(f1_score(y_test, pred1, average= \"macro\")*100)\n"
   ]
  },
  {
   "cell_type": "code",
   "execution_count": 362,
   "metadata": {},
   "outputs": [
    {
     "name": "stdout",
     "output_type": "stream",
     "text": [
      "Precision =  0.9972602739726029\n",
      "Recall =  0.9968253968253968\n",
      "Accuracy =  0.9970059880239521\n",
      "F1 Score = 0.9970206896551724\n"
     ]
    },
    {
     "data": {
      "image/png": "[encoded data removed]",
      "text/plain": [
       "<Figure size 864x576 with 1 Axes>"
      ]
     },
     "metadata": {
      "needs_background": "light"
     },
     "output_type": "display_data"
    }
   ],
   "source": [
    "print(\"Precision = \",precision_score(y_test, pred1, average= \"macro\"))\n",
    "print(\"Recall = \",recall_score(y_test, pred1, average= \"macro\"))\n",
    "print(\"Accuracy = \",accuracy_score(y_test,pred1))\n",
    "print(\"F1 Score =\",f1_score(y_test, pred1, average= \"macro\"))\n",
    "\n",
    "cm = confusion_matrix(y_test, pred1)\n",
    "plt.figure(figsize=(12, 8))\n",
    "ax =sns.heatmap(cm, square=True, annot=True, cbar=False, fmt = \".0f\")"
   ]
  },
  {
   "cell_type": "markdown",
   "metadata": {},
   "source": [
    "# Overfitting & Underfitting\n",
    "In our third model, we again have encountered with great accuracy results. If there was overfitting or underfitting, our training results would not match the test results. It seems like, once again, both results are pretty close and around 0.99, there is no need to extra tuning."
   ]
  },
  {
   "cell_type": "markdown",
   "metadata": {},
   "source": [
    "# Support Vector Classifier"
   ]
  },
  {
   "cell_type": "code",
   "execution_count": 363,
   "metadata": {},
   "outputs": [
    {
     "name": "stdout",
     "output_type": "stream",
     "text": [
      "Mean training accuracy: 0.8901734104046243\n",
      "Test accuracy: 0.875748502994012\n",
      "******************************\n"
     ]
    }
   ],
   "source": [
    "from sklearn.svm import SVC\n",
    "\n",
    "models = SVC(random_state=42)\n",
    "cv = cross_validate(models,X_train, y_train, cv = 3, n_jobs=-1, return_estimator=True)\n",
    "print(\"Mean training accuracy:\",np.mean(cv['test_score']))\n",
    "print(\"Test accuracy:\",cv[\"estimator\"][0].score(X_test,y_test))\n",
    "print(\"*\"*30)\n",
    "\n",
    "pred = cv[\"estimator\"][0].predict(X_test)\n",
    "performances.append(f1_score(y_test, pred, average= \"macro\")*100)"
   ]
  },
  {
   "cell_type": "code",
   "execution_count": 364,
   "metadata": {},
   "outputs": [
    {
     "name": "stdout",
     "output_type": "stream",
     "text": [
      "Precision =  0.8879391891412627\n",
      "Recall =  0.8781431274861932\n",
      "Accuracy =  0.875748502994012\n",
      "F1 Score = 0.8757324575862306\n"
     ]
    },
    {
     "data": {
      "image/png": "[encoded data removed]",
      "text/plain": [
       "<Figure size 864x576 with 1 Axes>"
      ]
     },
     "metadata": {
      "needs_background": "light"
     },
     "output_type": "display_data"
    }
   ],
   "source": [
    "print(\"Precision = \",precision_score(y_test, pred, average= \"macro\"))\n",
    "print(\"Recall = \",recall_score(y_test, pred, average= \"macro\"))\n",
    "print(\"Accuracy = \",accuracy_score(y_test,pred))\n",
    "print(\"F1 Score =\",f1_score(y_test, pred, average= \"macro\"))\n",
    "\n",
    "cm = confusion_matrix(y_test, pred)\n",
    "plt.figure(figsize=(12, 8))\n",
    "ax =sns.heatmap(cm, square=True, annot=True, cbar=False, fmt = \".0f\")"
   ]
  },
  {
   "cell_type": "markdown",
   "metadata": {},
   "source": [
    "# Overfitting & Underfitting\n",
    "In our last model, we again have encountered with great accuracy results. If there was overfitting or underfitting, our training results would not match the test results. It seems like, once again, both results are pretty close and around 0.87, there is no need to extra tuning."
   ]
  },
  {
   "cell_type": "markdown",
   "metadata": {},
   "source": [
    "# Evaluation\n",
    "- Select the best performing model and write your comments about why choose this model.\n",
    "- Analyse results and make comment about how you can improve model."
   ]
  },
  {
   "cell_type": "code",
   "execution_count": 365,
   "metadata": {},
   "outputs": [
    {
     "data": {
      "text/plain": [
       "<seaborn.axisgrid.FacetGrid at 0x7f18a2d75350>"
      ]
     },
     "execution_count": 365,
     "metadata": {},
     "output_type": "execute_result"
    },
    {
     "data": {
      "image/png": "[encoded data removed]",
      "text/plain": [
       "<Figure size 360x360 with 1 Axes>"
      ]
     },
     "metadata": {
      "needs_background": "light"
     },
     "output_type": "display_data"
    }
   ],
   "source": [
    "df = pd.DataFrame({\"Accuracy\": performances, \"Model\":[\"Decision Tree\",\"Random Forest\",\"XGBoost\",\"SVC\"]})\n",
    "# control x and y limits\n",
    "sns.lmplot( y=\"Accuracy\", x=\"Model\", data=df, fit_reg=False)"
   ]
  },
  {
   "cell_type": "markdown",
   "metadata": {},
   "source": [
    "Decision Tree and XGBoost seems to be more accurate than SVC and Random Forest models.\n",
    "One way to further our accuracy with xgboost would be hyperparameter tuning with SearchGridCV.\n",
    "On the other hand, we can increase the performance of SVC via more advanced feature extractions using correlation matrix more efficiently."
   ]
  }
 ],
 "metadata": {
  "kernelspec": {
   "display_name": "Python 3",
   "language": "python",
   "name": "python3"
  },
  "language_info": {
   "codemirror_mode": {
    "name": "ipython",
    "version": 3
   },
   "file_extension": ".py",
   "mimetype": "text/x-python",
   "name": "python",
   "nbconvert_exporter": "python",
   "pygments_lexer": "ipython3",
   "version": "3.8.5"
  }
 },
 "nbformat": 4,
 "nbformat_minor": 4
}
